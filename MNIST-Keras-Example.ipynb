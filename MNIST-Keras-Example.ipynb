{
 "cells": [
  {
   "cell_type": "markdown",
   "metadata": {},
   "source": [
    "# Machine Learning in Python\n",
    "\n",
    "## SIGN-IN HERE: [tinyurl.com/deltahacksinstitute](tinyurl.com/deltahacksinstitute)\n",
    "\n",
    "## What is Machine Learning\n",
    "Machine Learning:\n",
    "* Computer learns by itself\n",
    "* Requires lots of data that the computer can learn from\n",
    "\n",
    "Today's activity, Image Classification:\n",
    "* Data will be various digits\n",
    "* End goal: computer can classify digits in images\n",
    "\n",
    "Neural Netowork:\n",
    "* Hot-topic in today's world\n",
    "* Models a human-brain and the way we learn things\n",
    "* Has layers\n",
    "  * Input layer: Data\n",
    "  * Hidden layers\n",
    "  * Output layer: Result\n",
    "* Can be trained with data\n",
    "\n",
    "## Convolutional Neural Network (CNN)\n",
    "* Special type of neural network, specifically for images\n",
    "* Layers\n",
    "  * Input layer: Image is fed, pixel by pixel\n",
    "  * Hidden layers\n",
    "  * Output layer: Probability associated with all the classes\n",
    "  * Different types of Layers\n",
    "* Data\n",
    "  * Called MNIST (Modified National Institute of Standards and Technology database)\n",
    "  * 60,000 training images and 10,000 testing images\n",
    "\n",
    "![Diagram](img/diagram.png)\n",
    "\n",
    "## Keras\n",
    "* Machine Learning package\n",
    "* Useful for quick prototyping of a lot of things, such as CNNs\n",
    "* Uses tensorflow in the backend\n"
   ]
  },
  {
   "cell_type": "markdown",
   "metadata": {},
   "source": [
    "## Import Statements\n",
    "``` from __future__ import print_function ```: ensures interpreter doesn't round when printing values\n",
    "\n",
    "``` import keras ```: imports the keras package\n",
    "\n",
    "``` from keras.datasets import mnist ```: imports the MNIST dataset\n",
    "\n",
    "``` from keras.models import Sequential ```: imports the Sequential Model, a model which allows us to add layers on top of each other and makes it easy to create CNNs\n",
    "\n",
    "``` from keras.layers import Dense, Dropout, Flatten ```, ``` from keras.layers import Conv2D, MaxPooling2D ```: imports the different types of layers needed for CNNs\n",
    "\n",
    "``` from keras import backend as K ```: imports the backend (we will be using tensorflow)\n"
   ]
  },
  {
   "cell_type": "code",
   "execution_count": 3,
   "metadata": {},
   "outputs": [],
   "source": [
    "from __future__ import print_function\n",
    "import keras\n",
    "from keras.datasets import mnist\n",
    "from keras.models import Sequential\n",
    "from keras.layers import Dense, Dropout, Flatten\n",
    "from keras.layers import Conv2D, MaxPooling2D\n",
    "from keras import backend as K"
   ]
  },
  {
   "cell_type": "markdown",
   "metadata": {},
   "source": [
    "## Constants\n",
    "``` batch_size = 128 ```: a batch is how many images you would like to train your network with at once. After each batch, the network updates the weights in each layer.\n",
    "\n",
    "``` num_classes = 10 ```: how many possible outputs we have (10 for 10 different digits)\n",
    "\n",
    "``` epochs = 12 ```: how many times we are going to go through the data and feed it in the network\n",
    "\n",
    "``` img_rows, img_cols = 28, 28 ```: size of the data, in pixels. 28 x 28 is default for MNIST"
   ]
  },
  {
   "cell_type": "code",
   "execution_count": 4,
   "metadata": {},
   "outputs": [],
   "source": [
    "batch_size = 128\n",
    "num_classes = 10\n",
    "epochs = 5 #12 is ideal, but will take more time\n",
    "\n",
    "# input image dimensions\n",
    "img_rows, img_cols = 28, 28"
   ]
  },
  {
   "cell_type": "markdown",
   "metadata": {},
   "source": [
    "## Preprocesing Data\n",
    "``` (x_train, y_train), (x_test, y_test) = mnist.load_data() ```: \"x\" refers to the images, while \"y\" refers to the label for each image."
   ]
  },
  {
   "cell_type": "code",
   "execution_count": 5,
   "metadata": {},
   "outputs": [
    {
     "name": "stdout",
     "output_type": "stream",
     "text": [
      "Downloading data from https://s3.amazonaws.com/img-datasets/mnist.npz\n",
      "11493376/11490434 [==============================] - 5s 0us/step\n"
     ]
    }
   ],
   "source": [
    "# the data, split between train and test sets\n",
    "(x_train, y_train), (x_test, y_test) = mnist.load_data()"
   ]
  },
  {
   "cell_type": "markdown",
   "metadata": {},
   "source": [
    "## Input Format\n",
    "We check the type of backend that is being used and accordingly shape our input data. \n",
    "\n",
    "``` reshape(x_train.shape[0], 1, img_rows, img_cols) ```: (# of imgs, # colors, # of rows, # of cols)\n",
    "\n",
    "``` input_shape = (1, img_rows, img_cols) ```: (# colors, # of rows, # of cols)"
   ]
  },
  {
   "cell_type": "code",
   "execution_count": 6,
   "metadata": {},
   "outputs": [],
   "source": [
    "if K.image_data_format() == 'channels_first':\n",
    "    x_train = x_train.reshape(x_train.shape[0], 1, img_rows, img_cols)\n",
    "    x_test = x_test.reshape(x_test.shape[0], 1, img_rows, img_cols)\n",
    "    input_shape = (1, img_rows, img_cols)\n",
    "else:\n",
    "    x_train = x_train.reshape(x_train.shape[0], img_rows, img_cols, 1)\n",
    "    x_test = x_test.reshape(x_test.shape[0], img_rows, img_cols, 1)\n",
    "    input_shape = (img_rows, img_cols, 1)"
   ]
  },
  {
   "cell_type": "markdown",
   "metadata": {},
   "source": [
    "## Preprocessing Data\n",
    "``` astype('float32') ```: describes the precision we want for each pixel value. We use 32 so that when we divide each pixel value in the next step, we can still preserve the precision.\n",
    "\n",
    "``` /= 255 ```: each pixel value has a range from 0 - 255. Dividing the value by 255 results in a new range from 0 - 1 which is the type of input the Neural Network requires."
   ]
  },
  {
   "cell_type": "code",
   "execution_count": 7,
   "metadata": {},
   "outputs": [
    {
     "name": "stdout",
     "output_type": "stream",
     "text": [
      "x_train shape: (60000, 28, 28, 1)\n",
      "60000 train samples\n",
      "10000 test samples\n"
     ]
    }
   ],
   "source": [
    "x_train = x_train.astype('float32')\n",
    "x_test = x_test.astype('float32')\n",
    "x_train /= 255\n",
    "x_test /= 255\n",
    "print('x_train shape:', x_train.shape)\n",
    "print(x_train.shape[0], 'train samples')\n",
    "print(x_test.shape[0], 'test samples')\n"
   ]
  },
  {
   "cell_type": "markdown",
   "metadata": {},
   "source": [
    "## Preprocessing Labels\n",
    "``` to_categorical(y_train, num_classes) ```: converts the labels to class matrices, which have values between 0 - 1 as per the requirements of the Neural Network."
   ]
  },
  {
   "cell_type": "code",
   "execution_count": 8,
   "metadata": {},
   "outputs": [],
   "source": [
    "# convert class vectors to binary class matrices\n",
    "y_train = keras.utils.to_categorical(y_train, num_classes)\n",
    "y_test = keras.utils.to_categorical(y_test, num_classes)"
   ]
  },
  {
   "cell_type": "markdown",
   "metadata": {},
   "source": [
    "## Creating the model\n",
    "``` model = Sequential() ```: creates the sequential model\n",
    "``` model.add() ```: adds a layer on top of the existing model\n",
    "The important layers are ``` Conv2D ``` and ``` MaxPooling2D ```. These layers break the image into smaller pieces before doing the math on them. \n",
    "\n",
    "![Conv2D](img/conv2d_diagram.png)\n",
    "\n",
    "The layers following help combine the data from these layers into one output."
   ]
  },
  {
   "cell_type": "code",
   "execution_count": 9,
   "metadata": {},
   "outputs": [],
   "source": [
    "model = Sequential()\n",
    "model.add(Conv2D(32, kernel_size=(3, 3),\n",
    "                 activation='relu',\n",
    "                 input_shape=input_shape))\n",
    "model.add(Conv2D(64, (3, 3), activation='relu'))\n",
    "model.add(MaxPooling2D(pool_size=(2, 2)))\n",
    "model.add(Dropout(0.25))\n",
    "model.add(Flatten())\n",
    "model.add(Dense(128, activation='relu'))\n",
    "model.add(Dropout(0.5))\n",
    "model.add(Dense(num_classes, activation='softmax'))"
   ]
  },
  {
   "cell_type": "markdown",
   "metadata": {},
   "source": [
    "## Compiling the Model\n",
    "``` model.compile() ```: allows us to set parameters on how the model should be trained\n",
    "\n",
    "``` loss=keras.losses.categorical_crossentropy ```: specifies the loss function. The loss function is the function which the algorithm best tries to achieve. It is a way of measuring how good/bad the network is performing.\n",
    "\n",
    "``` optimizer=keras.optimizers.Adadelta() ```: specify the type of \n",
    "mathematical algorithm we would like to use to train the CNN\n",
    "\n",
    "``` metrics=['accuracy'] ```: specify what information while training the CNN should be outputed to the user"
   ]
  },
  {
   "cell_type": "code",
   "execution_count": 10,
   "metadata": {},
   "outputs": [],
   "source": [
    "model.compile(loss=keras.losses.categorical_crossentropy,\n",
    "              optimizer=keras.optimizers.Adadelta(),\n",
    "              metrics=['accuracy'])"
   ]
  },
  {
   "cell_type": "markdown",
   "metadata": {},
   "source": [
    "## Training the model\n",
    "``` model.fit() ```: tells the model to use the parameters and fit the weights of the layers so that the loss function is maximized. It returns an object that has the information of how the model was performing in each epoch.\n",
    "\n",
    "``` verbose=1 ```: specifies how the output should be displayed during the training.\n",
    "\n",
    "``` validation_data=(x_test, y_test) ```: specifies which set of data is meant for validation data. Validation data is data which we branch of the original dataset in order to see how the network's accuracy is. This allows for an un-biased evaluation of a network.\n"
   ]
  },
  {
   "cell_type": "code",
   "execution_count": 11,
   "metadata": {},
   "outputs": [
    {
     "name": "stdout",
     "output_type": "stream",
     "text": [
      "Train on 60000 samples, validate on 10000 samples\n",
      "Epoch 1/12\n",
      "60000/60000 [==============================] - 65s 1ms/step - loss: 0.2769 - acc: 0.9142 - val_loss: 0.0578 - val_acc: 0.9815\n",
      "Epoch 2/12\n",
      "60000/60000 [==============================] - 56s 936us/step - loss: 0.0931 - acc: 0.9721 - val_loss: 0.0435 - val_acc: 0.9857\n",
      "Epoch 3/12\n",
      "60000/60000 [==============================] - 66s 1ms/step - loss: 0.0689 - acc: 0.9794 - val_loss: 0.0357 - val_acc: 0.9879\n",
      "Epoch 4/12\n",
      "60000/60000 [==============================] - 67s 1ms/step - loss: 0.0550 - acc: 0.9833 - val_loss: 0.0301 - val_acc: 0.9899\n",
      "Epoch 5/12\n",
      "60000/60000 [==============================] - 68s 1ms/step - loss: 0.0492 - acc: 0.9854 - val_loss: 0.0319 - val_acc: 0.9887\n",
      "Epoch 6/12\n",
      "60000/60000 [==============================] - 70s 1ms/step - loss: 0.0453 - acc: 0.9866 - val_loss: 0.0303 - val_acc: 0.9905\n",
      "Epoch 7/12\n",
      "60000/60000 [==============================] - 73s 1ms/step - loss: 0.0394 - acc: 0.9879 - val_loss: 0.0263 - val_acc: 0.9921\n",
      "Epoch 8/12\n",
      "60000/60000 [==============================] - 73s 1ms/step - loss: 0.0369 - acc: 0.9887 - val_loss: 0.0288 - val_acc: 0.9911\n",
      "Epoch 9/12\n",
      "60000/60000 [==============================] - 62s 1ms/step - loss: 0.0336 - acc: 0.9897 - val_loss: 0.0266 - val_acc: 0.9918\n",
      "Epoch 10/12\n",
      "60000/60000 [==============================] - 65s 1ms/step - loss: 0.0320 - acc: 0.9902 - val_loss: 0.0259 - val_acc: 0.9918\n",
      "Epoch 11/12\n",
      "60000/60000 [==============================] - 69s 1ms/step - loss: 0.0300 - acc: 0.9907 - val_loss: 0.0272 - val_acc: 0.9913\n",
      "Epoch 12/12\n",
      "60000/60000 [==============================] - 76s 1ms/step - loss: 0.0273 - acc: 0.9917 - val_loss: 0.0273 - val_acc: 0.9916\n",
      "Test loss: 0.02733025009893945\n",
      "Test accuracy: 0.9916\n"
     ]
    }
   ],
   "source": [
    "history = model.fit(x_train, y_train,\n",
    "          batch_size=batch_size,\n",
    "          epochs=epochs,\n",
    "          verbose=1,\n",
    "          validation_data=(x_test, y_test))\n",
    "score = model.evaluate(x_test, y_test, verbose=0)\n",
    "print('Test loss:', score[0])\n",
    "print('Test accuracy:', score[1])"
   ]
  },
  {
   "cell_type": "markdown",
   "metadata": {},
   "source": [
    "## Analyzing the Model\n",
    "The following code uses the history object we created above when the neural network completed. We can use this data to graph the accuracy of our network over each epoch. Don't worry too much about the code, it simply formats the data using a package called matplotlib."
   ]
  },
  {
   "cell_type": "code",
   "execution_count": 12,
   "metadata": {},
   "outputs": [
    {
     "name": "stdout",
     "output_type": "stream",
     "text": [
      "dict_keys(['val_loss', 'val_acc', 'loss', 'acc'])\n"
     ]
    },
    {
     "data": {
      "image/png": "[encoded data removed]",
      "text/plain": [
       "<Figure size 432x288 with 1 Axes>"
      ]
     },
     "metadata": {},
     "output_type": "display_data"
    },
    {
     "data": {
      "image/png": "[encoded data removed]",
      "text/plain": [
       "<Figure size 432x288 with 1 Axes>"
      ]
     },
     "metadata": {},
     "output_type": "display_data"
    }
   ],
   "source": [
    "import matplotlib.pyplot as plt\n",
    "%matplotlib inline\n",
    "\n",
    "print(history.history.keys())\n",
    "# summarize history for accuracy\n",
    "plt.plot(history.history['acc'])\n",
    "plt.plot(history.history['val_acc'])\n",
    "plt.title('model accuracy')\n",
    "plt.ylabel('accuracy')\n",
    "plt.xlabel('epoch')\n",
    "plt.legend(['train', 'test'], loc='upper left')\n",
    "plt.grid(True)\n",
    "plt.show()\n",
    "# summarize history for loss\n",
    "plt.plot(history.history['loss'])\n",
    "plt.plot(history.history['val_loss'])\n",
    "plt.title('model loss')\n",
    "plt.ylabel('loss')\n",
    "plt.xlabel('epoch')\n",
    "plt.legend(['train', 'test'], loc='upper left')\n",
    "plt.grid(True)\n",
    "plt.show()"
   ]
  },
  {
   "cell_type": "code",
   "execution_count": null,
   "metadata": {},
   "outputs": [],
   "source": []
  }
 ],
 "metadata": {
  "kernelspec": {
   "display_name": "Python 3",
   "language": "python",
   "name": "python3"
  },
  "language_info": {
   "codemirror_mode": {
    "name": "ipython",
    "version": 3
   },
   "file_extension": ".py",
   "mimetype": "text/x-python",
   "name": "python",
   "nbconvert_exporter": "python",
   "pygments_lexer": "ipython3",
   "version": "3.6.5"
  }
 },
 "nbformat": 4,
 "nbformat_minor": 2
}
